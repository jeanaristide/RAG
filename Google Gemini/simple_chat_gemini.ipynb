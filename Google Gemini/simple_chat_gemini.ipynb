{
 "cells": [
  {
   "cell_type": "code",
   "execution_count": 1,
   "metadata": {},
   "outputs": [
    {
     "ename": "DefaultCredentialsError",
     "evalue": "Your default credentials were not found. To set up Application Default Credentials, see https://cloud.google.com/docs/authentication/external/set-up-adc for more information.",
     "output_type": "error",
     "traceback": [
      "\u001b[0;31m---------------------------------------------------------------------------\u001b[0m",
      "\u001b[0;31mDefaultCredentialsError\u001b[0m                   Traceback (most recent call last)",
      "\u001b[1;32m/Users/jeana/Retrieval-Augmented-Generation/google_gemini.ipynb Cell 1\u001b[0m line \u001b[0;36m3\n\u001b[1;32m      <a href='vscode-notebook-cell:/Users/jeana/Retrieval-Augmented-Generation/google_gemini.ipynb#X21sZmlsZQ%3D%3D?line=0'>1</a>\u001b[0m \u001b[39mimport\u001b[39;00m \u001b[39mgoogle\u001b[39;00m\u001b[39m.\u001b[39;00m\u001b[39mgenerativeai\u001b[39;00m \u001b[39mas\u001b[39;00m \u001b[39mgenai\u001b[39;00m\n\u001b[0;32m----> <a href='vscode-notebook-cell:/Users/jeana/Retrieval-Augmented-Generation/google_gemini.ipynb#X21sZmlsZQ%3D%3D?line=2'>3</a>\u001b[0m \u001b[39mprint\u001b[39m(\u001b[39m'\u001b[39m\u001b[39mAvailable base models:\u001b[39m\u001b[39m'\u001b[39m, [m\u001b[39m.\u001b[39mname \u001b[39mfor\u001b[39;00m m \u001b[39min\u001b[39;00m genai\u001b[39m.\u001b[39mlist_models()])\n",
      "\u001b[1;32m/Users/jeana/Retrieval-Augmented-Generation/google_gemini.ipynb Cell 1\u001b[0m line \u001b[0;36m3\n\u001b[1;32m      <a href='vscode-notebook-cell:/Users/jeana/Retrieval-Augmented-Generation/google_gemini.ipynb#X21sZmlsZQ%3D%3D?line=0'>1</a>\u001b[0m \u001b[39mimport\u001b[39;00m \u001b[39mgoogle\u001b[39;00m\u001b[39m.\u001b[39;00m\u001b[39mgenerativeai\u001b[39;00m \u001b[39mas\u001b[39;00m \u001b[39mgenai\u001b[39;00m\n\u001b[0;32m----> <a href='vscode-notebook-cell:/Users/jeana/Retrieval-Augmented-Generation/google_gemini.ipynb#X21sZmlsZQ%3D%3D?line=2'>3</a>\u001b[0m \u001b[39mprint\u001b[39m(\u001b[39m'\u001b[39m\u001b[39mAvailable base models:\u001b[39m\u001b[39m'\u001b[39m, [m\u001b[39m.\u001b[39mname \u001b[39mfor\u001b[39;00m m \u001b[39min\u001b[39;00m genai\u001b[39m.\u001b[39mlist_models()])\n",
      "File \u001b[0;32m~/anaconda3/lib/python3.11/site-packages/google/generativeai/models.py:162\u001b[0m, in \u001b[0;36mlist_models\u001b[0;34m(page_size, client)\u001b[0m\n\u001b[1;32m    145\u001b[0m \u001b[39m\u001b[39m\u001b[39m\"\"\"Lists available models.\u001b[39;00m\n\u001b[1;32m    146\u001b[0m \n\u001b[1;32m    147\u001b[0m \u001b[39m```\u001b[39;00m\n\u001b[0;32m   (...)\u001b[0m\n\u001b[1;32m    159\u001b[0m \n\u001b[1;32m    160\u001b[0m \u001b[39m\"\"\"\u001b[39;00m\n\u001b[1;32m    161\u001b[0m \u001b[39mif\u001b[39;00m client \u001b[39mis\u001b[39;00m \u001b[39mNone\u001b[39;00m:\n\u001b[0;32m--> 162\u001b[0m     client \u001b[39m=\u001b[39m get_default_model_client()\n\u001b[1;32m    164\u001b[0m \u001b[39mfor\u001b[39;00m model \u001b[39min\u001b[39;00m client\u001b[39m.\u001b[39mlist_models(page_size\u001b[39m=\u001b[39mpage_size):\n\u001b[1;32m    165\u001b[0m     model \u001b[39m=\u001b[39m \u001b[39mtype\u001b[39m(model)\u001b[39m.\u001b[39mto_dict(model)\n",
      "File \u001b[0;32m~/anaconda3/lib/python3.11/site-packages/google/generativeai/client.py:246\u001b[0m, in \u001b[0;36mget_default_model_client\u001b[0;34m()\u001b[0m\n\u001b[1;32m    245\u001b[0m \u001b[39mdef\u001b[39;00m \u001b[39mget_default_model_client\u001b[39m() \u001b[39m-\u001b[39m\u001b[39m>\u001b[39m glm\u001b[39m.\u001b[39mModelServiceAsyncClient:\n\u001b[0;32m--> 246\u001b[0m     \u001b[39mreturn\u001b[39;00m _client_manager\u001b[39m.\u001b[39mget_default_client(\u001b[39m\"\u001b[39m\u001b[39mmodel\u001b[39m\u001b[39m\"\u001b[39m)\n",
      "File \u001b[0;32m~/anaconda3/lib/python3.11/site-packages/google/generativeai/client.py:161\u001b[0m, in \u001b[0;36m_ClientManager.get_default_client\u001b[0;34m(self, name)\u001b[0m\n\u001b[1;32m    159\u001b[0m client \u001b[39m=\u001b[39m \u001b[39mself\u001b[39m\u001b[39m.\u001b[39mclients\u001b[39m.\u001b[39mget(name)\n\u001b[1;32m    160\u001b[0m \u001b[39mif\u001b[39;00m client \u001b[39mis\u001b[39;00m \u001b[39mNone\u001b[39;00m:\n\u001b[0;32m--> 161\u001b[0m     client \u001b[39m=\u001b[39m \u001b[39mself\u001b[39m\u001b[39m.\u001b[39mmake_client(name)\n\u001b[1;32m    162\u001b[0m     \u001b[39mself\u001b[39m\u001b[39m.\u001b[39mclients[name] \u001b[39m=\u001b[39m client\n\u001b[1;32m    163\u001b[0m \u001b[39mreturn\u001b[39;00m client\n",
      "File \u001b[0;32m~/anaconda3/lib/python3.11/site-packages/google/generativeai/client.py:121\u001b[0m, in \u001b[0;36m_ClientManager.make_client\u001b[0;34m(self, name)\u001b[0m\n\u001b[1;32m    118\u001b[0m \u001b[39mif\u001b[39;00m \u001b[39mnot\u001b[39;00m \u001b[39mself\u001b[39m\u001b[39m.\u001b[39mclient_config:\n\u001b[1;32m    119\u001b[0m     configure()\n\u001b[0;32m--> 121\u001b[0m client \u001b[39m=\u001b[39m \u001b[39mcls\u001b[39m(\u001b[39m*\u001b[39m\u001b[39m*\u001b[39m\u001b[39mself\u001b[39m\u001b[39m.\u001b[39mclient_config)\n\u001b[1;32m    123\u001b[0m \u001b[39mif\u001b[39;00m \u001b[39mnot\u001b[39;00m \u001b[39mself\u001b[39m\u001b[39m.\u001b[39mdefault_metadata:\n\u001b[1;32m    124\u001b[0m     \u001b[39mreturn\u001b[39;00m client\n",
      "File \u001b[0;32m~/anaconda3/lib/python3.11/site-packages/google/ai/generativelanguage_v1beta/services/model_service/client.py:450\u001b[0m, in \u001b[0;36mModelServiceClient.__init__\u001b[0;34m(self, credentials, transport, client_options, client_info)\u001b[0m\n\u001b[1;32m    445\u001b[0m     credentials \u001b[39m=\u001b[39m google\u001b[39m.\u001b[39mauth\u001b[39m.\u001b[39m_default\u001b[39m.\u001b[39mget_api_key_credentials(\n\u001b[1;32m    446\u001b[0m         api_key_value\n\u001b[1;32m    447\u001b[0m     )\n\u001b[1;32m    449\u001b[0m Transport \u001b[39m=\u001b[39m \u001b[39mtype\u001b[39m(\u001b[39mself\u001b[39m)\u001b[39m.\u001b[39mget_transport_class(transport)\n\u001b[0;32m--> 450\u001b[0m \u001b[39mself\u001b[39m\u001b[39m.\u001b[39m_transport \u001b[39m=\u001b[39m Transport(\n\u001b[1;32m    451\u001b[0m     credentials\u001b[39m=\u001b[39mcredentials,\n\u001b[1;32m    452\u001b[0m     credentials_file\u001b[39m=\u001b[39mclient_options\u001b[39m.\u001b[39mcredentials_file,\n\u001b[1;32m    453\u001b[0m     host\u001b[39m=\u001b[39mapi_endpoint,\n\u001b[1;32m    454\u001b[0m     scopes\u001b[39m=\u001b[39mclient_options\u001b[39m.\u001b[39mscopes,\n\u001b[1;32m    455\u001b[0m     client_cert_source_for_mtls\u001b[39m=\u001b[39mclient_cert_source_func,\n\u001b[1;32m    456\u001b[0m     quota_project_id\u001b[39m=\u001b[39mclient_options\u001b[39m.\u001b[39mquota_project_id,\n\u001b[1;32m    457\u001b[0m     client_info\u001b[39m=\u001b[39mclient_info,\n\u001b[1;32m    458\u001b[0m     always_use_jwt_access\u001b[39m=\u001b[39m\u001b[39mTrue\u001b[39;00m,\n\u001b[1;32m    459\u001b[0m     api_audience\u001b[39m=\u001b[39mclient_options\u001b[39m.\u001b[39mapi_audience,\n\u001b[1;32m    460\u001b[0m )\n",
      "File \u001b[0;32m~/anaconda3/lib/python3.11/site-packages/google/ai/generativelanguage_v1beta/services/model_service/transports/grpc.py:154\u001b[0m, in \u001b[0;36mModelServiceGrpcTransport.__init__\u001b[0;34m(self, host, credentials, credentials_file, scopes, channel, api_mtls_endpoint, client_cert_source, ssl_channel_credentials, client_cert_source_for_mtls, quota_project_id, client_info, always_use_jwt_access, api_audience)\u001b[0m\n\u001b[1;32m    149\u001b[0m             \u001b[39mself\u001b[39m\u001b[39m.\u001b[39m_ssl_channel_credentials \u001b[39m=\u001b[39m grpc\u001b[39m.\u001b[39mssl_channel_credentials(\n\u001b[1;32m    150\u001b[0m                 certificate_chain\u001b[39m=\u001b[39mcert, private_key\u001b[39m=\u001b[39mkey\n\u001b[1;32m    151\u001b[0m             )\n\u001b[1;32m    153\u001b[0m \u001b[39m# The base transport sets the host, credentials and scopes\u001b[39;00m\n\u001b[0;32m--> 154\u001b[0m \u001b[39msuper\u001b[39m()\u001b[39m.\u001b[39m\u001b[39m__init__\u001b[39m(\n\u001b[1;32m    155\u001b[0m     host\u001b[39m=\u001b[39mhost,\n\u001b[1;32m    156\u001b[0m     credentials\u001b[39m=\u001b[39mcredentials,\n\u001b[1;32m    157\u001b[0m     credentials_file\u001b[39m=\u001b[39mcredentials_file,\n\u001b[1;32m    158\u001b[0m     scopes\u001b[39m=\u001b[39mscopes,\n\u001b[1;32m    159\u001b[0m     quota_project_id\u001b[39m=\u001b[39mquota_project_id,\n\u001b[1;32m    160\u001b[0m     client_info\u001b[39m=\u001b[39mclient_info,\n\u001b[1;32m    161\u001b[0m     always_use_jwt_access\u001b[39m=\u001b[39malways_use_jwt_access,\n\u001b[1;32m    162\u001b[0m     api_audience\u001b[39m=\u001b[39mapi_audience,\n\u001b[1;32m    163\u001b[0m )\n\u001b[1;32m    165\u001b[0m \u001b[39mif\u001b[39;00m \u001b[39mnot\u001b[39;00m \u001b[39mself\u001b[39m\u001b[39m.\u001b[39m_grpc_channel:\n\u001b[1;32m    166\u001b[0m     \u001b[39mself\u001b[39m\u001b[39m.\u001b[39m_grpc_channel \u001b[39m=\u001b[39m \u001b[39mtype\u001b[39m(\u001b[39mself\u001b[39m)\u001b[39m.\u001b[39mcreate_channel(\n\u001b[1;32m    167\u001b[0m         \u001b[39mself\u001b[39m\u001b[39m.\u001b[39m_host,\n\u001b[1;32m    168\u001b[0m         \u001b[39m# use the credentials which are saved\u001b[39;00m\n\u001b[0;32m   (...)\u001b[0m\n\u001b[1;32m    179\u001b[0m         ],\n\u001b[1;32m    180\u001b[0m     )\n",
      "File \u001b[0;32m~/anaconda3/lib/python3.11/site-packages/google/ai/generativelanguage_v1beta/services/model_service/transports/base.py:101\u001b[0m, in \u001b[0;36mModelServiceTransport.__init__\u001b[0;34m(self, host, credentials, credentials_file, scopes, quota_project_id, client_info, always_use_jwt_access, api_audience, **kwargs)\u001b[0m\n\u001b[1;32m     97\u001b[0m     credentials, _ \u001b[39m=\u001b[39m google\u001b[39m.\u001b[39mauth\u001b[39m.\u001b[39mload_credentials_from_file(\n\u001b[1;32m     98\u001b[0m         credentials_file, \u001b[39m*\u001b[39m\u001b[39m*\u001b[39mscopes_kwargs, quota_project_id\u001b[39m=\u001b[39mquota_project_id\n\u001b[1;32m     99\u001b[0m     )\n\u001b[1;32m    100\u001b[0m \u001b[39melif\u001b[39;00m credentials \u001b[39mis\u001b[39;00m \u001b[39mNone\u001b[39;00m:\n\u001b[0;32m--> 101\u001b[0m     credentials, _ \u001b[39m=\u001b[39m google\u001b[39m.\u001b[39mauth\u001b[39m.\u001b[39mdefault(\n\u001b[1;32m    102\u001b[0m         \u001b[39m*\u001b[39m\u001b[39m*\u001b[39mscopes_kwargs, quota_project_id\u001b[39m=\u001b[39mquota_project_id\n\u001b[1;32m    103\u001b[0m     )\n\u001b[1;32m    104\u001b[0m     \u001b[39m# Don't apply audience if the credentials file passed from user.\u001b[39;00m\n\u001b[1;32m    105\u001b[0m     \u001b[39mif\u001b[39;00m \u001b[39mhasattr\u001b[39m(credentials, \u001b[39m\"\u001b[39m\u001b[39mwith_gdch_audience\u001b[39m\u001b[39m\"\u001b[39m):\n",
      "File \u001b[0;32m~/anaconda3/lib/python3.11/site-packages/google/auth/_default.py:691\u001b[0m, in \u001b[0;36mdefault\u001b[0;34m(scopes, request, quota_project_id, default_scopes)\u001b[0m\n\u001b[1;32m    683\u001b[0m             _LOGGER\u001b[39m.\u001b[39mwarning(\n\u001b[1;32m    684\u001b[0m                 \u001b[39m\"\u001b[39m\u001b[39mNo project ID could be determined. Consider running \u001b[39m\u001b[39m\"\u001b[39m\n\u001b[1;32m    685\u001b[0m                 \u001b[39m\"\u001b[39m\u001b[39m`gcloud config set project` or setting the \u001b[39m\u001b[39m%s\u001b[39;00m\u001b[39m \u001b[39m\u001b[39m\"\u001b[39m\n\u001b[1;32m    686\u001b[0m                 \u001b[39m\"\u001b[39m\u001b[39menvironment variable\u001b[39m\u001b[39m\"\u001b[39m,\n\u001b[1;32m    687\u001b[0m                 environment_vars\u001b[39m.\u001b[39mPROJECT,\n\u001b[1;32m    688\u001b[0m             )\n\u001b[1;32m    689\u001b[0m         \u001b[39mreturn\u001b[39;00m credentials, effective_project_id\n\u001b[0;32m--> 691\u001b[0m \u001b[39mraise\u001b[39;00m exceptions\u001b[39m.\u001b[39mDefaultCredentialsError(_CLOUD_SDK_MISSING_CREDENTIALS)\n",
      "\u001b[0;31mDefaultCredentialsError\u001b[0m: Your default credentials were not found. To set up Application Default Credentials, see https://cloud.google.com/docs/authentication/external/set-up-adc for more information."
     ]
    }
   ],
   "source": [
    "import google.generativeai as genai\n",
    "\n",
    "print('Available base models:', [m.name for m in genai.list_models()])"
   ]
  },
  {
   "cell_type": "code",
   "execution_count": 3,
   "metadata": {},
   "outputs": [],
   "source": [
    "import pathlib\n",
    "import textwrap\n",
    "import os\n",
    "import google.generativeai as genai\n",
    "\n",
    "# Used to securely store your API key\n",
    "# from google.colab import userdata\n",
    "\n",
    "from IPython.display import display\n",
    "from IPython.display import Markdown\n",
    "\n",
    "from dotenv import load_dotenv\n",
    "load_dotenv('/Users/jeana/.env')\n",
    "\n",
    "def to_markdown(text):\n",
    "  text = text.replace('•', '  *')\n",
    "  return Markdown(textwrap.indent(text, '> ', predicate=lambda _: True))"
   ]
  },
  {
   "cell_type": "code",
   "execution_count": 4,
   "metadata": {},
   "outputs": [],
   "source": [
    "# Or use `os.getenv('GOOGLE_API_KEY')` to fetch an environment variable.\n",
    "GOOGLE_API_KEY= os.getenv('GOOGLE_API_KEY')\n",
    "\n",
    "genai.configure(api_key=GOOGLE_API_KEY)\n"
   ]
  },
  {
   "cell_type": "code",
   "execution_count": 5,
   "metadata": {},
   "outputs": [
    {
     "name": "stdout",
     "output_type": "stream",
     "text": [
      "models/gemini-pro\n",
      "models/gemini-pro-vision\n"
     ]
    }
   ],
   "source": [
    "for m in genai.list_models():\n",
    "  if 'generateContent' in m.supported_generation_methods:\n",
    "    print(m.name)"
   ]
  },
  {
   "cell_type": "code",
   "execution_count": 6,
   "metadata": {},
   "outputs": [],
   "source": [
    "model = genai.GenerativeModel('gemini-pro')"
   ]
  },
  {
   "cell_type": "code",
   "execution_count": 7,
   "metadata": {},
   "outputs": [
    {
     "name": "stdout",
     "output_type": "stream",
     "text": [
      "CPU times: user 5.34 ms, sys: 5.16 ms, total: 10.5 ms\n",
      "Wall time: 10.2 s\n"
     ]
    }
   ],
   "source": [
    "%%time\n",
    "response = model.generate_content(\"What is the meaning of life?\")"
   ]
  },
  {
   "cell_type": "code",
   "execution_count": 8,
   "metadata": {},
   "outputs": [
    {
     "data": {
      "text/markdown": [
       "> The meaning of life is a philosophical question that has been pondered by humans for centuries. There is no one definitive answer, as the meaning of life is subjective and unique to each individual. Some people believe that the meaning of life is to find happiness and fulfillment, while others believe that it is to make a positive impact on the world. There are many different perspectives on the meaning of life, and it is up to each individual to decide what they believe it to be.\n",
       "> \n",
       "> Here are some common themes that emerge when people discuss the meaning of life:\n",
       "> \n",
       "> * **Happiness and fulfillment:** Many people believe that the meaning of life is to find happiness and fulfillment. This can be achieved through a variety of means, such as spending time with loved ones, pursuing one's passions, or helping others.\n",
       "> * **Making a difference:** Others believe that the meaning of life is to make a positive impact on the world. This can be done through a variety of means, such as volunteering, working in a helping profession, or creating art or music that inspires others.\n",
       "> * **Finding purpose:** Some people believe that the meaning of life is to find a sense of purpose. This can be done by setting goals, finding work that is meaningful to you, or connecting with your spiritual side.\n",
       "> * **Living in the moment:** Others believe that the meaning of life is to simply live in the moment and enjoy the present. This can be done by practicing mindfulness, appreciating the beauty of nature, or spending time with loved ones.\n",
       "> \n",
       "> Ultimately, the meaning of life is a personal journey that each individual must undertake for themselves. There is no right or wrong answer, and the meaning of life may change over time. What is important is to find what gives you a sense of purpose and fulfillment, and to live your life accordingly.\n",
       "> \n",
       "> In addition to the above, here are some other perspectives on the meaning of life:\n",
       "> \n",
       "> * **Religious beliefs:** Many people find meaning in their lives through their religious beliefs. Religion can provide a sense of community, purpose, and hope.\n",
       "> * **Philosophy:** Philosophy is another way to explore the meaning of life. Philosophers have debated this topic for centuries, and there are many different schools of thought on the matter.\n",
       "> * **Science:** Science can also provide insights into the meaning of life. The study of evolution, for example, can help us to understand our place in the universe.\n",
       "> * **Art and literature:** Art and literature can also be powerful ways to explore the meaning of life. Artists and writers often use their work to express their own thoughts and feelings on this topic.\n",
       "> \n",
       "> There is no one right answer to the question of the meaning of life. However, by exploring different perspectives and reflecting on our own experiences, we can come to a better understanding of what it means to us personally."
      ],
      "text/plain": [
       "<IPython.core.display.Markdown object>"
      ]
     },
     "execution_count": 8,
     "metadata": {},
     "output_type": "execute_result"
    }
   ],
   "source": [
    "to_markdown(response.text)"
   ]
  },
  {
   "cell_type": "code",
   "execution_count": 8,
   "metadata": {},
   "outputs": [
    {
     "data": {
      "text/plain": [
       "safety_ratings {\n",
       "  category: HARM_CATEGORY_SEXUALLY_EXPLICIT\n",
       "  probability: NEGLIGIBLE\n",
       "}\n",
       "safety_ratings {\n",
       "  category: HARM_CATEGORY_HATE_SPEECH\n",
       "  probability: NEGLIGIBLE\n",
       "}\n",
       "safety_ratings {\n",
       "  category: HARM_CATEGORY_HARASSMENT\n",
       "  probability: NEGLIGIBLE\n",
       "}\n",
       "safety_ratings {\n",
       "  category: HARM_CATEGORY_DANGEROUS_CONTENT\n",
       "  probability: NEGLIGIBLE\n",
       "}"
      ]
     },
     "execution_count": 8,
     "metadata": {},
     "output_type": "execute_result"
    }
   ],
   "source": [
    "response.prompt_feedback"
   ]
  },
  {
   "cell_type": "code",
   "execution_count": 9,
   "metadata": {},
   "outputs": [
    {
     "data": {
      "text/plain": [
       "[index: 0\n",
       "content {\n",
       "  parts {\n",
       "    text: \"1. **Finding Purpose and Fulfillment:**\\n   - Discovering your unique talents, passions, and interests.\\n   - Setting meaningful goals and working towards them.\\n   - Contributing to the well-being of others through work, relationships, or volunteerism.\\n\\n\\n2. **Experiencing Relationships:**\\n   - Building strong, loving relationships with family and friends.\\n   - Finding romantic love and partnership.\\n   - Nurturing a sense of community and belonging.\\n\\n\\n3. **Learning and Growing:**\\n   - Continuously seeking knowledge and education.\\n   - Embracing challenges and setbacks as opportunities for growth.\\n   - Developing self-awareness, emotional intelligence, and resilience.\\n\\n\\n4. **Making a Difference:**\\n   - Using your skills and abilities to positively impact the world.\\n   - Advocating for social justice, environmental protection, or other causes you believe in.\\n   - Leaving a legacy that will be remembered and valued by others.\\n\\n\\n5. **Enjoying the Journey:**\\n   - Appreciating the beauty and wonder of the world around you.\\n   - Finding joy in simple pleasures, such as nature, art, music, or spending time with loved ones.\\n   - Cultivating a sense of gratitude for the people and experiences in your life.\\n   \\n\\n6. **Creating Meaning Through Art and Creativity:**\\n   - Expressing yourself through writing, painting, music, or other creative outlets.\\n   - Finding beauty and purpose in the creative process itself.\\n   - Sharing your creations with others and inspiring them to find their own meaning.\\n\\n\\n7. **Transcending the Self:**\\n   - Cultivating a sense of spirituality or connection to something greater than yourself.\\n   - Experiencing moments of transcendence, awe, or interconnectedness.\\n   - Finding meaning and purpose through religious or spiritual practices.\\n\\n\\n8. **Leaving a Legacy:**\\n   - Raising a family and passing on your values and traditions to future generations.\\n   - Creating works of art, literature, or music that will be enjoyed by others long after you\\'re gone.\\n   - Making a difference in the world that will be remembered and appreciated by others.\"\n",
       "  }\n",
       "  role: \"model\"\n",
       "}\n",
       "finish_reason: STOP\n",
       "safety_ratings {\n",
       "  category: HARM_CATEGORY_SEXUALLY_EXPLICIT\n",
       "  probability: NEGLIGIBLE\n",
       "}\n",
       "safety_ratings {\n",
       "  category: HARM_CATEGORY_HATE_SPEECH\n",
       "  probability: NEGLIGIBLE\n",
       "}\n",
       "safety_ratings {\n",
       "  category: HARM_CATEGORY_HARASSMENT\n",
       "  probability: NEGLIGIBLE\n",
       "}\n",
       "safety_ratings {\n",
       "  category: HARM_CATEGORY_DANGEROUS_CONTENT\n",
       "  probability: NEGLIGIBLE\n",
       "}\n",
       "]"
      ]
     },
     "execution_count": 9,
     "metadata": {},
     "output_type": "execute_result"
    }
   ],
   "source": [
    "response.candidates"
   ]
  },
  {
   "cell_type": "code",
   "execution_count": null,
   "metadata": {},
   "outputs": [],
   "source": [
    "gcloud auth application-default login \\\n",
    "    --/Users/jeana/client_secret.json \\\n",
    "    --scopes='https://www.googleapis.com/auth/cloud-platform,https://www.googleapis.com/auth/generative-language.retriever'"
   ]
  }
 ],
 "metadata": {
  "kernelspec": {
   "display_name": "base",
   "language": "python",
   "name": "python3"
  },
  "language_info": {
   "codemirror_mode": {
    "name": "ipython",
    "version": 3
   },
   "file_extension": ".py",
   "mimetype": "text/x-python",
   "name": "python",
   "nbconvert_exporter": "python",
   "pygments_lexer": "ipython3",
   "version": "3.11.5"
  }
 },
 "nbformat": 4,
 "nbformat_minor": 2
}
