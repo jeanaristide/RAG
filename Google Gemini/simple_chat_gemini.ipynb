{
 "cells": [
  {
   "cell_type": "code",
   "execution_count": 1,
   "metadata": {},
   "outputs": [],
   "source": [
    "import pathlib\n",
    "import textwrap\n",
    "import os\n",
    "import google.generativeai as genai\n",
    "\n",
    "# Used to securely store your API key\n",
    "# from google.colab import userdata\n",
    "\n",
    "from IPython.display import display\n",
    "from IPython.display import Markdown\n",
    "\n",
    "from dotenv import load_dotenv\n",
    "load_dotenv('/Users/jeana/.env')\n",
    "\n",
    "def to_markdown(text):\n",
    "  text = text.replace('•', '  *')\n",
    "  return Markdown(textwrap.indent(text, '> ', predicate=lambda _: True))"
   ]
  },
  {
   "cell_type": "code",
   "execution_count": 2,
   "metadata": {},
   "outputs": [],
   "source": [
    "# Or use `os.getenv('GOOGLE_API_KEY')` to fetch an environment variable.\n",
    "GOOGLE_API_KEY= os.getenv('GOOGLE_API_KEY')\n",
    "\n",
    "genai.configure(api_key=GOOGLE_API_KEY)\n"
   ]
  },
  {
   "cell_type": "code",
   "execution_count": 3,
   "metadata": {},
   "outputs": [
    {
     "name": "stdout",
     "output_type": "stream",
     "text": [
      "models/gemini-pro\n",
      "models/gemini-pro-vision\n"
     ]
    }
   ],
   "source": [
    "for m in genai.list_models():\n",
    "  if 'generateContent' in m.supported_generation_methods:\n",
    "    print(m.name)"
   ]
  },
  {
   "cell_type": "code",
   "execution_count": 4,
   "metadata": {},
   "outputs": [],
   "source": [
    "model = genai.GenerativeModel('gemini-pro')"
   ]
  },
  {
   "cell_type": "code",
   "execution_count": 5,
   "metadata": {},
   "outputs": [
    {
     "name": "stdout",
     "output_type": "stream",
     "text": [
      "CPU times: user 5.48 ms, sys: 5.43 ms, total: 10.9 ms\n",
      "Wall time: 9.29 s\n"
     ]
    }
   ],
   "source": [
    "%%time\n",
    "response = model.generate_content(\"What is the meaning of life?\")"
   ]
  },
  {
   "cell_type": "code",
   "execution_count": 6,
   "metadata": {},
   "outputs": [
    {
     "data": {
      "text/markdown": [
       "> The meaning of life is a profound question that has puzzled and intrigued people for centuries, and there is no one definitive answer that is universally accepted. The search for meaning in life is a deeply personal journey that varies from person to person. However, some common themes and perspectives on the meaning of life include:\n",
       "> \n",
       "> 1. **Purpose and Fulfillment:** Many people find meaning in life through pursuing a sense of purpose and fulfillment. This can involve setting goals, working towards personal growth, or engaging in activities that bring joy, satisfaction, and a sense of accomplishment.\n",
       "> \n",
       "> \n",
       "> 2. **Relationships and Connection:** Meaningful relationships and connections with others can play a significant role in providing a sense of purpose and belonging. Family, friends, romantic partners, and social networks can offer support, love, and a sense of community, contributing to overall well-being and happiness.\n",
       "> \n",
       "> \n",
       "> 3. **Contribution and Service:** Some people find deep meaning in making a positive contribution to their community, society, or the world at large. This can involve volunteering, activism, philanthropy, or any form of service that aims to help others or make a difference in the world.\n",
       "> \n",
       "> \n",
       "> 4. **Self-Discovery and Growth:** The journey of self-discovery and personal growth can be a meaningful and rewarding pursuit. Exploring one's values, beliefs, strengths, and weaknesses can lead to a deeper understanding of oneself and a sense of authenticity and fulfillment.\n",
       "> \n",
       "> \n",
       "> 5. **Experiencing and Appreciating Life:** Simply being present and appreciating the wonders and beauty of life can be a source of meaning. This can involve savoring moments of joy, practicing mindfulness and gratitude, connecting with nature, or engaging in activities that bring a sense of awe and wonder.\n",
       "> \n",
       "> \n",
       "> 6. **Legacy and Impact:** Some people find meaning in the thought of leaving a positive legacy or impact on the world. This can involve creating something that will outlive them, inspiring others, or making a difference that will ripple through generations to come.\n",
       "> \n",
       "> \n",
       "> 7. **Spirituality and Belief:** For many people, spirituality and religious beliefs provide a framework for understanding the meaning of life. Faith, prayer, meditation, or spiritual practices can offer a sense of connection to something greater than oneself and provide guidance and purpose in life.\n",
       "> \n",
       "> \n",
       "> Ultimately, the meaning of life is a unique and subjective experience that can shift and evolve over time. It is a journey of exploration, discovery, and personal growth, and there is no single answer that fits everyone."
      ],
      "text/plain": [
       "<IPython.core.display.Markdown object>"
      ]
     },
     "execution_count": 6,
     "metadata": {},
     "output_type": "execute_result"
    }
   ],
   "source": [
    "to_markdown(response.text)"
   ]
  },
  {
   "cell_type": "code",
   "execution_count": 7,
   "metadata": {},
   "outputs": [
    {
     "data": {
      "text/plain": [
       "safety_ratings {\n",
       "  category: HARM_CATEGORY_SEXUALLY_EXPLICIT\n",
       "  probability: NEGLIGIBLE\n",
       "}\n",
       "safety_ratings {\n",
       "  category: HARM_CATEGORY_HATE_SPEECH\n",
       "  probability: NEGLIGIBLE\n",
       "}\n",
       "safety_ratings {\n",
       "  category: HARM_CATEGORY_HARASSMENT\n",
       "  probability: NEGLIGIBLE\n",
       "}\n",
       "safety_ratings {\n",
       "  category: HARM_CATEGORY_DANGEROUS_CONTENT\n",
       "  probability: NEGLIGIBLE\n",
       "}"
      ]
     },
     "execution_count": 7,
     "metadata": {},
     "output_type": "execute_result"
    }
   ],
   "source": [
    "response.prompt_feedback"
   ]
  },
  {
   "cell_type": "code",
   "execution_count": 8,
   "metadata": {},
   "outputs": [
    {
     "data": {
      "text/plain": [
       "[index: 0\n",
       "content {\n",
       "  parts {\n",
       "    text: \"The meaning of life is a profound question that has puzzled and intrigued people for centuries, and there is no one definitive answer that is universally accepted. The search for meaning in life is a deeply personal journey that varies from person to person. However, some common themes and perspectives on the meaning of life include:\\n\\n1. **Purpose and Fulfillment:** Many people find meaning in life through pursuing a sense of purpose and fulfillment. This can involve setting goals, working towards personal growth, or engaging in activities that bring joy, satisfaction, and a sense of accomplishment.\\n\\n\\n2. **Relationships and Connection:** Meaningful relationships and connections with others can play a significant role in providing a sense of purpose and belonging. Family, friends, romantic partners, and social networks can offer support, love, and a sense of community, contributing to overall well-being and happiness.\\n\\n\\n3. **Contribution and Service:** Some people find deep meaning in making a positive contribution to their community, society, or the world at large. This can involve volunteering, activism, philanthropy, or any form of service that aims to help others or make a difference in the world.\\n\\n\\n4. **Self-Discovery and Growth:** The journey of self-discovery and personal growth can be a meaningful and rewarding pursuit. Exploring one\\'s values, beliefs, strengths, and weaknesses can lead to a deeper understanding of oneself and a sense of authenticity and fulfillment.\\n\\n\\n5. **Experiencing and Appreciating Life:** Simply being present and appreciating the wonders and beauty of life can be a source of meaning. This can involve savoring moments of joy, practicing mindfulness and gratitude, connecting with nature, or engaging in activities that bring a sense of awe and wonder.\\n\\n\\n6. **Legacy and Impact:** Some people find meaning in the thought of leaving a positive legacy or impact on the world. This can involve creating something that will outlive them, inspiring others, or making a difference that will ripple through generations to come.\\n\\n\\n7. **Spirituality and Belief:** For many people, spirituality and religious beliefs provide a framework for understanding the meaning of life. Faith, prayer, meditation, or spiritual practices can offer a sense of connection to something greater than oneself and provide guidance and purpose in life.\\n\\n\\nUltimately, the meaning of life is a unique and subjective experience that can shift and evolve over time. It is a journey of exploration, discovery, and personal growth, and there is no single answer that fits everyone.\"\n",
       "  }\n",
       "  role: \"model\"\n",
       "}\n",
       "finish_reason: STOP\n",
       "safety_ratings {\n",
       "  category: HARM_CATEGORY_SEXUALLY_EXPLICIT\n",
       "  probability: NEGLIGIBLE\n",
       "}\n",
       "safety_ratings {\n",
       "  category: HARM_CATEGORY_HATE_SPEECH\n",
       "  probability: NEGLIGIBLE\n",
       "}\n",
       "safety_ratings {\n",
       "  category: HARM_CATEGORY_HARASSMENT\n",
       "  probability: NEGLIGIBLE\n",
       "}\n",
       "safety_ratings {\n",
       "  category: HARM_CATEGORY_DANGEROUS_CONTENT\n",
       "  probability: NEGLIGIBLE\n",
       "}\n",
       "]"
      ]
     },
     "execution_count": 8,
     "metadata": {},
     "output_type": "execute_result"
    }
   ],
   "source": [
    "response.candidates"
   ]
  }
 ],
 "metadata": {
  "kernelspec": {
   "display_name": "base",
   "language": "python",
   "name": "python3"
  },
  "language_info": {
   "codemirror_mode": {
    "name": "ipython",
    "version": 3
   },
   "file_extension": ".py",
   "mimetype": "text/x-python",
   "name": "python",
   "nbconvert_exporter": "python",
   "pygments_lexer": "ipython3",
   "version": "3.11.5"
  }
 },
 "nbformat": 4,
 "nbformat_minor": 2
}
