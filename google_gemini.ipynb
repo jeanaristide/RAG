{
 "cells": [
  {
   "cell_type": "code",
   "execution_count": 3,
   "metadata": {},
   "outputs": [],
   "source": [
    "import pathlib\n",
    "import textwrap\n",
    "import os\n",
    "import google.generativeai as genai\n",
    "\n",
    "# Used to securely store your API key\n",
    "# from google.colab import userdata\n",
    "\n",
    "from IPython.display import display\n",
    "from IPython.display import Markdown\n",
    "\n",
    "from dotenv import load_dotenv\n",
    "load_dotenv('/Users/jeana/.env')\n",
    "\n",
    "def to_markdown(text):\n",
    "  text = text.replace('•', '  *')\n",
    "  return Markdown(textwrap.indent(text, '> ', predicate=lambda _: True))"
   ]
  },
  {
   "cell_type": "code",
   "execution_count": 4,
   "metadata": {},
   "outputs": [],
   "source": [
    "# Or use `os.getenv('GOOGLE_API_KEY')` to fetch an environment variable.\n",
    "GOOGLE_API_KEY= os.getenv('GOOGLE_API_KEY')\n",
    "\n",
    "genai.configure(api_key=GOOGLE_API_KEY)\n"
   ]
  },
  {
   "cell_type": "code",
   "execution_count": 5,
   "metadata": {},
   "outputs": [
    {
     "name": "stdout",
     "output_type": "stream",
     "text": [
      "models/gemini-pro\n",
      "models/gemini-pro-vision\n"
     ]
    }
   ],
   "source": [
    "for m in genai.list_models():\n",
    "  if 'generateContent' in m.supported_generation_methods:\n",
    "    print(m.name)"
   ]
  },
  {
   "cell_type": "code",
   "execution_count": 6,
   "metadata": {},
   "outputs": [],
   "source": [
    "model = genai.GenerativeModel('gemini-pro')"
   ]
  },
  {
   "cell_type": "code",
   "execution_count": 7,
   "metadata": {},
   "outputs": [
    {
     "name": "stdout",
     "output_type": "stream",
     "text": [
      "CPU times: user 5.34 ms, sys: 5.16 ms, total: 10.5 ms\n",
      "Wall time: 10.2 s\n"
     ]
    }
   ],
   "source": [
    "%%time\n",
    "response = model.generate_content(\"What is the meaning of life?\")"
   ]
  },
  {
   "cell_type": "code",
   "execution_count": 8,
   "metadata": {},
   "outputs": [
    {
     "data": {
      "text/markdown": [
       "> The meaning of life is a philosophical question that has been pondered by humans for centuries. There is no one definitive answer, as the meaning of life is subjective and unique to each individual. Some people believe that the meaning of life is to find happiness and fulfillment, while others believe that it is to make a positive impact on the world. There are many different perspectives on the meaning of life, and it is up to each individual to decide what they believe it to be.\n",
       "> \n",
       "> Here are some common themes that emerge when people discuss the meaning of life:\n",
       "> \n",
       "> * **Happiness and fulfillment:** Many people believe that the meaning of life is to find happiness and fulfillment. This can be achieved through a variety of means, such as spending time with loved ones, pursuing one's passions, or helping others.\n",
       "> * **Making a difference:** Others believe that the meaning of life is to make a positive impact on the world. This can be done through a variety of means, such as volunteering, working in a helping profession, or creating art or music that inspires others.\n",
       "> * **Finding purpose:** Some people believe that the meaning of life is to find a sense of purpose. This can be done by setting goals, finding work that is meaningful to you, or connecting with your spiritual side.\n",
       "> * **Living in the moment:** Others believe that the meaning of life is to simply live in the moment and enjoy the present. This can be done by practicing mindfulness, appreciating the beauty of nature, or spending time with loved ones.\n",
       "> \n",
       "> Ultimately, the meaning of life is a personal journey that each individual must undertake for themselves. There is no right or wrong answer, and the meaning of life may change over time. What is important is to find what gives you a sense of purpose and fulfillment, and to live your life accordingly.\n",
       "> \n",
       "> In addition to the above, here are some other perspectives on the meaning of life:\n",
       "> \n",
       "> * **Religious beliefs:** Many people find meaning in their lives through their religious beliefs. Religion can provide a sense of community, purpose, and hope.\n",
       "> * **Philosophy:** Philosophy is another way to explore the meaning of life. Philosophers have debated this topic for centuries, and there are many different schools of thought on the matter.\n",
       "> * **Science:** Science can also provide insights into the meaning of life. The study of evolution, for example, can help us to understand our place in the universe.\n",
       "> * **Art and literature:** Art and literature can also be powerful ways to explore the meaning of life. Artists and writers often use their work to express their own thoughts and feelings on this topic.\n",
       "> \n",
       "> There is no one right answer to the question of the meaning of life. However, by exploring different perspectives and reflecting on our own experiences, we can come to a better understanding of what it means to us personally."
      ],
      "text/plain": [
       "<IPython.core.display.Markdown object>"
      ]
     },
     "execution_count": 8,
     "metadata": {},
     "output_type": "execute_result"
    }
   ],
   "source": [
    "to_markdown(response.text)"
   ]
  },
  {
   "cell_type": "code",
   "execution_count": 8,
   "metadata": {},
   "outputs": [
    {
     "data": {
      "text/plain": [
       "safety_ratings {\n",
       "  category: HARM_CATEGORY_SEXUALLY_EXPLICIT\n",
       "  probability: NEGLIGIBLE\n",
       "}\n",
       "safety_ratings {\n",
       "  category: HARM_CATEGORY_HATE_SPEECH\n",
       "  probability: NEGLIGIBLE\n",
       "}\n",
       "safety_ratings {\n",
       "  category: HARM_CATEGORY_HARASSMENT\n",
       "  probability: NEGLIGIBLE\n",
       "}\n",
       "safety_ratings {\n",
       "  category: HARM_CATEGORY_DANGEROUS_CONTENT\n",
       "  probability: NEGLIGIBLE\n",
       "}"
      ]
     },
     "execution_count": 8,
     "metadata": {},
     "output_type": "execute_result"
    }
   ],
   "source": [
    "response.prompt_feedback"
   ]
  },
  {
   "cell_type": "code",
   "execution_count": 9,
   "metadata": {},
   "outputs": [
    {
     "data": {
      "text/plain": [
       "[index: 0\n",
       "content {\n",
       "  parts {\n",
       "    text: \"1. **Finding Purpose and Fulfillment:**\\n   - Discovering your unique talents, passions, and interests.\\n   - Setting meaningful goals and working towards them.\\n   - Contributing to the well-being of others through work, relationships, or volunteerism.\\n\\n\\n2. **Experiencing Relationships:**\\n   - Building strong, loving relationships with family and friends.\\n   - Finding romantic love and partnership.\\n   - Nurturing a sense of community and belonging.\\n\\n\\n3. **Learning and Growing:**\\n   - Continuously seeking knowledge and education.\\n   - Embracing challenges and setbacks as opportunities for growth.\\n   - Developing self-awareness, emotional intelligence, and resilience.\\n\\n\\n4. **Making a Difference:**\\n   - Using your skills and abilities to positively impact the world.\\n   - Advocating for social justice, environmental protection, or other causes you believe in.\\n   - Leaving a legacy that will be remembered and valued by others.\\n\\n\\n5. **Enjoying the Journey:**\\n   - Appreciating the beauty and wonder of the world around you.\\n   - Finding joy in simple pleasures, such as nature, art, music, or spending time with loved ones.\\n   - Cultivating a sense of gratitude for the people and experiences in your life.\\n   \\n\\n6. **Creating Meaning Through Art and Creativity:**\\n   - Expressing yourself through writing, painting, music, or other creative outlets.\\n   - Finding beauty and purpose in the creative process itself.\\n   - Sharing your creations with others and inspiring them to find their own meaning.\\n\\n\\n7. **Transcending the Self:**\\n   - Cultivating a sense of spirituality or connection to something greater than yourself.\\n   - Experiencing moments of transcendence, awe, or interconnectedness.\\n   - Finding meaning and purpose through religious or spiritual practices.\\n\\n\\n8. **Leaving a Legacy:**\\n   - Raising a family and passing on your values and traditions to future generations.\\n   - Creating works of art, literature, or music that will be enjoyed by others long after you\\'re gone.\\n   - Making a difference in the world that will be remembered and appreciated by others.\"\n",
       "  }\n",
       "  role: \"model\"\n",
       "}\n",
       "finish_reason: STOP\n",
       "safety_ratings {\n",
       "  category: HARM_CATEGORY_SEXUALLY_EXPLICIT\n",
       "  probability: NEGLIGIBLE\n",
       "}\n",
       "safety_ratings {\n",
       "  category: HARM_CATEGORY_HATE_SPEECH\n",
       "  probability: NEGLIGIBLE\n",
       "}\n",
       "safety_ratings {\n",
       "  category: HARM_CATEGORY_HARASSMENT\n",
       "  probability: NEGLIGIBLE\n",
       "}\n",
       "safety_ratings {\n",
       "  category: HARM_CATEGORY_DANGEROUS_CONTENT\n",
       "  probability: NEGLIGIBLE\n",
       "}\n",
       "]"
      ]
     },
     "execution_count": 9,
     "metadata": {},
     "output_type": "execute_result"
    }
   ],
   "source": [
    "response.candidates"
   ]
  },
  {
   "cell_type": "code",
   "execution_count": null,
   "metadata": {},
   "outputs": [],
   "source": []
  }
 ],
 "metadata": {
  "kernelspec": {
   "display_name": "base",
   "language": "python",
   "name": "python3"
  },
  "language_info": {
   "codemirror_mode": {
    "name": "ipython",
    "version": 3
   },
   "file_extension": ".py",
   "mimetype": "text/x-python",
   "name": "python",
   "nbconvert_exporter": "python",
   "pygments_lexer": "ipython3",
   "version": "3.11.5"
  }
 },
 "nbformat": 4,
 "nbformat_minor": 2
}
